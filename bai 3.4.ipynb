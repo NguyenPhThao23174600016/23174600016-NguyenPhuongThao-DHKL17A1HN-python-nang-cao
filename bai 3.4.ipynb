{
 "cells": [
  {
   "cell_type": "code",
   "execution_count": 30,
   "metadata": {},
   "outputs": [
    {
     "name": "stdout",
     "output_type": "stream",
     "text": [
      "arr_zeros có 10 phần tử 0  và vị trí thứ 5 được thay bởi giá trị 1 là: [0 0 0 0 0 1 0 0 0 0]\n",
      "Các phần tử theo thứ tự đảo ngược của ar_h : [24. 23. 22. 21. 20. 19. 18. 17. 16. 15. 14. 13. 12. 11. 10.]\n",
      "Các phần tử từ arr_k sau khi loại bỏ phần tử 0 ta được dãy arr_l [1, 2, 8, 2, 1, 3, 5]\n",
      "Thêm 2 phần tử có giá trị 10 và 20 : [ 1  2  8  2  1  3  5 10 20]\n",
      "Thêm phần tử có giá trị 100 vào vị trí index = 5 : [  1   2   8   2   1 100   3   5  10  20]\n",
      "Xóa phần tử tại vị trí index = 0,1,2 là: [  2   1 100   3   5  10  20]\n"
     ]
    }
   ],
   "source": [
    "import numpy as np\n",
    "# Tạo ar_zeros có 10 phần tử 0 , cập nhật phần tử ở vị trí thứ 5 là 1\n",
    "arr_zeros = np.zeros(10,dtype = int)\n",
    "arr_zeros[5] = 1\n",
    "print(\"arr_zeros có 10 phần tử 0  và vị trí thứ 5 được thay bởi giá trị 1 là:\",arr_zeros)\n",
    "\n",
    "# Tạo arr_h có giá trị từ 10 đến 24 . In danh sách các phần tử theo thứ tự đảo ngược của arr_h\n",
    "arr_h = np.arange(10,25,1,dtype = float)\n",
    "dao_nguoc =arr_h [::-1]\n",
    "print(\"Các phần tử theo thứ tự đảo ngược của ar_h :\", dao_nguoc) \n",
    "\n",
    "# cho arr_k , tạo arr_l từ arr_k với các phần tử khác 0\n",
    "arr_k = np.array([1,2,0,8,2,0,1,3,0,5,0])\n",
    "arr_l = []\n",
    "for x in arr_k:\n",
    "    if x != 0:\n",
    "        arr_l.append(x)\n",
    "arr_l = np.array(arr_l)\n",
    "print(\"Các phần tử từ arr_k sau khi loại bỏ phần tử 0 ta được dãy arr_l\",arr_l.tolist())\n",
    "\n",
    "# Từ arr_l , thêm 2 phần tử có giá trị 10 và 20 vào cuối\n",
    "new_arr_l = np.append(arr_l,(10,20))\n",
    "print(\"Thêm 2 phần tử có giá trị 10 và 20 :\",new_arr_l)\n",
    "\n",
    "# Từ arr_l , thêm phần tử có giá trị 100 vào vị trí index = 5\n",
    "new_element = 100\n",
    "index_to_insert = 5\n",
    "array_new = np.insert(new_arr_l, index_to_insert, new_element)\n",
    "print(\"Thêm phần tử có giá trị 100 vào vị trí index = 5 :\",array_new)\n",
    "\n",
    "#Xóa phần tử tại vị trí index = 0,1,2\n",
    "idx_to_delete = [0,1,2]\n",
    "del_arr = np.delete(array_new,idx_to_delete)\n",
    "print(\"Xóa phần tử tại vị trí index = 0,1,2 là:\", del_arr)"
   ]
  }
 ],
 "metadata": {
  "kernelspec": {
   "display_name": "Python 3",
   "language": "python",
   "name": "python3"
  },
  "language_info": {
   "codemirror_mode": {
    "name": "ipython",
    "version": 3
   },
   "file_extension": ".py",
   "mimetype": "text/x-python",
   "name": "python",
   "nbconvert_exporter": "python",
   "pygments_lexer": "ipython3",
   "version": "3.11.5"
  }
 },
 "nbformat": 4,
 "nbformat_minor": 2
}
