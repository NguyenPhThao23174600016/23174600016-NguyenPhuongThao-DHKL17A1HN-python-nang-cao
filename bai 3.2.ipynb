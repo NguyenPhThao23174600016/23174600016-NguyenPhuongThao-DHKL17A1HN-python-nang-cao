{
 "cells": [
  {
   "cell_type": "code",
   "execution_count": 9,
   "metadata": {},
   "outputs": [
    {
     "name": "stdout",
     "output_type": "stream",
     "text": [
      "Day so la: [0 1 2 3 4 5 6 7 8 9]\n",
      "Kich thuoc la: 10\n",
      "Kieu du lieu : int64\n",
      "Mảng arr_odd (các số lẻ): [1 3 5 7 9]\n",
      "Mảng arr_even (các số chẵn): [0 2 4 6 8]\n",
      "Mảng arr_update_1 (chẵn giữ nguyên, lẻ thành 100): [  0 100   2 100   4 100   6 100   8 100]\n"
     ]
    }
   ],
   "source": [
    "import numpy as np\n",
    "#Tao mang chua cac so tu 0 - 9\n",
    "arr = np.arange(10)\n",
    "print(\"Day so la:\",arr)\n",
    "print(\"Kich thuoc la:\",len(arr))\n",
    "print(\"Kieu du lieu :\",arr.dtype)\n",
    "# Tạo mảng arr_odd (chứa các số lẻ)\n",
    "arr_odd = arr[arr % 2 != 0]\n",
    "print(\"Mảng arr_odd (các số lẻ):\", arr_odd)\n",
    "\n",
    "# Tạo mảng arr_even (chứa các số chẵn)\n",
    "arr_even = arr[arr % 2 == 0]\n",
    "print(\"Mảng arr_even (các số chẵn):\", arr_even)\n",
    "\n",
    "# Tạo mảng arr_update_1: số chẵn giữ nguyên, số lẻ thay bằng 100\n",
    "arr_update_1 = np.where(arr % 2 != 0, 100, arr)\n",
    "print(\"Mảng arr_update_1 (chẵn giữ nguyên, lẻ thành 100):\", arr_update_1)\n"
   ]
  }
 ],
 "metadata": {
  "kernelspec": {
   "display_name": "Python 3",
   "language": "python",
   "name": "python3"
  },
  "language_info": {
   "codemirror_mode": {
    "name": "ipython",
    "version": 3
   },
   "file_extension": ".py",
   "mimetype": "text/x-python",
   "name": "python",
   "nbconvert_exporter": "python",
   "pygments_lexer": "ipython3",
   "version": "3.11.5"
  }
 },
 "nbformat": 4,
 "nbformat_minor": 2
}
