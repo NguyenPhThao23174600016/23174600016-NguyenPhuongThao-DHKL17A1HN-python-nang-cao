{
 "cells": [
  {
   "cell_type": "code",
   "execution_count": 3,
   "metadata": {},
   "outputs": [
    {
     "name": "stdout",
     "output_type": "stream",
     "text": [
      "Chiều cao trung bình của các thủ môn (GK): 175.40 cm\n",
      "Chiều cao trung bình của các vị trí khác: 171.87 cm\n",
      "Vị trí có chiều cao thấp nhất: D (154.0 cm)\n",
      "Vị trí có chiều cao cao nhất: M (198.0 cm)\n"
     ]
    }
   ],
   "source": [
    "import numpy as np\n",
    "\n",
    "# 1. Tạo numpy array np_positions từ list positions\n",
    "positions = ['GK','M','GK','M','A','D','M','A','GK','M','A','D','A','M','GK','M','D','GK','M','D'] \n",
    "np_positions = np.array(positions)\n",
    "\n",
    "# Tạo numpy array np_heights từ list heights\n",
    "heights = [175,176,177,189,156,194,198,156,188,180,160,159,157,195,175,165,163,162,176,154] \n",
    "np_heights = np.array(heights)\n",
    "\n",
    "# 2. Tính chiều cao trung bình của các GK\n",
    "gk_heights = np_heights[np_positions == 'GK']\n",
    "avg_gk_height = np.mean(gk_heights)\n",
    "print(f\"Chiều cao trung bình của các thủ môn (GK): {avg_gk_height:.2f} cm\")\n",
    "\n",
    "# 3. Tính chiều cao trung bình của những vị trí khác (không phải GK)\n",
    "other_heights = np_heights[np_positions != 'GK']\n",
    "avg_other_height = np.mean(other_heights)\n",
    "print(f\"Chiều cao trung bình của các vị trí khác: {avg_other_height:.2f} cm\")\n",
    "\n",
    "# 4. Tạo mảng dữ liệu có cấu trúc tự định nghĩa\n",
    "players = np.zeros(len(positions), dtype=[('position', 'U15'), ('height', float)])\n",
    "players['position'] = np_positions\n",
    "players['height'] = np_heights\n",
    "\n",
    "# 5. Sắp xếp mảng players theo height\n",
    "players_sorted = np.sort(players, order='height')\n",
    "\n",
    "# In ra vị trí có chiều cao cao nhất và thấp nhất\n",
    "print(f\"Vị trí có chiều cao thấp nhất: {players_sorted[0]['position']} ({players_sorted[0]['height']} cm)\")\n",
    "print(f\"Vị trí có chiều cao cao nhất: {players_sorted[-1]['position']} ({players_sorted[-1]['height']} cm)\")"
   ]
  }
 ],
 "metadata": {
  "kernelspec": {
   "display_name": "Python 3",
   "language": "python",
   "name": "python3"
  },
  "language_info": {
   "codemirror_mode": {
    "name": "ipython",
    "version": 3
   },
   "file_extension": ".py",
   "mimetype": "text/x-python",
   "name": "python",
   "nbconvert_exporter": "python",
   "pygments_lexer": "ipython3",
   "version": "3.11.5"
  }
 },
 "nbformat": 4,
 "nbformat_minor": 2
}
