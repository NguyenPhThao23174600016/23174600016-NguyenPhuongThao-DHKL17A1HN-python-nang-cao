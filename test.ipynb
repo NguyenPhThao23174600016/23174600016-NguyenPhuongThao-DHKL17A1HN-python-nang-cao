{
 "cells": [
  {
   "cell_type": "code",
   "execution_count": 1,
   "metadata": {},
   "outputs": [
    {
     "ename": "AttributeError",
     "evalue": "`np.NaN` was removed in the NumPy 2.0 release. Use `np.nan` instead.",
     "output_type": "error",
     "traceback": [
      "\u001b[1;31m---------------------------------------------------------------------------\u001b[0m",
      "\u001b[1;31mAttributeError\u001b[0m                            Traceback (most recent call last)",
      "\u001b[1;32md:\\LẬP TRÌNH PYTHON NÂNG CAO\\BAI TAP CHUONG\\CHUONG 3\\test.ipynb Cell 1\u001b[0m line \u001b[0;36m4\n\u001b[0;32m      <a href='vscode-notebook-cell:/d%3A/L%E1%BA%ACP%20TR%C3%8CNH%20PYTHON%20N%C3%82NG%20CAO/BAI%20TAP%20CHUONG/CHUONG%203/test.ipynb#W0sZmlsZQ%3D%3D?line=0'>1</a>\u001b[0m \u001b[39mimport\u001b[39;00m \u001b[39mnumpy\u001b[39;00m \u001b[39mas\u001b[39;00m \u001b[39mnp\u001b[39;00m\n\u001b[0;32m      <a href='vscode-notebook-cell:/d%3A/L%E1%BA%ACP%20TR%C3%8CNH%20PYTHON%20N%C3%82NG%20CAO/BAI%20TAP%20CHUONG/CHUONG%203/test.ipynb#W0sZmlsZQ%3D%3D?line=2'>3</a>\u001b[0m \u001b[39m# Tạo mảng với NaN\u001b[39;00m\n\u001b[1;32m----> <a href='vscode-notebook-cell:/d%3A/L%E1%BA%ACP%20TR%C3%8CNH%20PYTHON%20N%C3%82NG%20CAO/BAI%20TAP%20CHUONG/CHUONG%203/test.ipynb#W0sZmlsZQ%3D%3D?line=3'>4</a>\u001b[0m arr \u001b[39m=\u001b[39m np\u001b[39m.\u001b[39marray([\u001b[39m1\u001b[39m, \u001b[39m2\u001b[39m, np\u001b[39m.\u001b[39;49mNaN, \u001b[39m4\u001b[39m, \u001b[39m5\u001b[39m])\n\u001b[0;32m      <a href='vscode-notebook-cell:/d%3A/L%E1%BA%ACP%20TR%C3%8CNH%20PYTHON%20N%C3%82NG%20CAO/BAI%20TAP%20CHUONG/CHUONG%203/test.ipynb#W0sZmlsZQ%3D%3D?line=4'>5</a>\u001b[0m \u001b[39mprint\u001b[39m(\u001b[39m\"\u001b[39m\u001b[39mMảng với NaN:\u001b[39m\u001b[39m\"\u001b[39m, arr)\n\u001b[0;32m      <a href='vscode-notebook-cell:/d%3A/L%E1%BA%ACP%20TR%C3%8CNH%20PYTHON%20N%C3%82NG%20CAO/BAI%20TAP%20CHUONG/CHUONG%203/test.ipynb#W0sZmlsZQ%3D%3D?line=6'>7</a>\u001b[0m \u001b[39m# Kiểm tra NaN\u001b[39;00m\n",
      "File \u001b[1;32mc:\\Users\\Administrator\\AppData\\Local\\Programs\\Python\\Python311\\Lib\\site-packages\\numpy\\__init__.py:414\u001b[0m, in \u001b[0;36m__getattr__\u001b[1;34m(attr)\u001b[0m\n\u001b[0;32m    411\u001b[0m     \u001b[39mraise\u001b[39;00m \u001b[39mAttributeError\u001b[39;00m(__former_attrs__[attr], name\u001b[39m=\u001b[39m\u001b[39mNone\u001b[39;00m)\n\u001b[0;32m    413\u001b[0m \u001b[39mif\u001b[39;00m attr \u001b[39min\u001b[39;00m __expired_attributes__:\n\u001b[1;32m--> 414\u001b[0m     \u001b[39mraise\u001b[39;00m \u001b[39mAttributeError\u001b[39;00m(\n\u001b[0;32m    415\u001b[0m         \u001b[39mf\u001b[39m\u001b[39m\"\u001b[39m\u001b[39m`np.\u001b[39m\u001b[39m{\u001b[39;00mattr\u001b[39m}\u001b[39;00m\u001b[39m` was removed in the NumPy 2.0 release. \u001b[39m\u001b[39m\"\u001b[39m\n\u001b[0;32m    416\u001b[0m         \u001b[39mf\u001b[39m\u001b[39m\"\u001b[39m\u001b[39m{\u001b[39;00m__expired_attributes__[attr]\u001b[39m}\u001b[39;00m\u001b[39m\"\u001b[39m,\n\u001b[0;32m    417\u001b[0m         name\u001b[39m=\u001b[39m\u001b[39mNone\u001b[39;00m\n\u001b[0;32m    418\u001b[0m     )\n\u001b[0;32m    420\u001b[0m \u001b[39mif\u001b[39;00m attr \u001b[39m==\u001b[39m \u001b[39m\"\u001b[39m\u001b[39mchararray\u001b[39m\u001b[39m\"\u001b[39m:\n\u001b[0;32m    421\u001b[0m     warnings\u001b[39m.\u001b[39mwarn(\n\u001b[0;32m    422\u001b[0m         \u001b[39m\"\u001b[39m\u001b[39m`np.chararray` is deprecated and will be removed from \u001b[39m\u001b[39m\"\u001b[39m\n\u001b[0;32m    423\u001b[0m         \u001b[39m\"\u001b[39m\u001b[39mthe main namespace in the future. Use an array with a string \u001b[39m\u001b[39m\"\u001b[39m\n\u001b[0;32m    424\u001b[0m         \u001b[39m\"\u001b[39m\u001b[39mor bytes dtype instead.\u001b[39m\u001b[39m\"\u001b[39m, \u001b[39mDeprecationWarning\u001b[39;00m, stacklevel\u001b[39m=\u001b[39m\u001b[39m2\u001b[39m)\n",
      "\u001b[1;31mAttributeError\u001b[0m: `np.NaN` was removed in the NumPy 2.0 release. Use `np.nan` instead."
     ]
    }
   ],
   "source": [
    "import numpy as np\n",
    "\n",
    "# Tạo mảng với NaN\n",
    "arr = np.array([1, 2, np.NaN, 4, 5])\n",
    "print(\"Mảng với NaN:\", arr)\n",
    "\n",
    "# Kiểm tra NaN\n",
    "print(\"Vị trí của NaN:\", np.isnan(arr))\n",
    "\n",
    "# Thao tác với NaN\n",
    "print(\"Tổng mảng (bỏ qua NaN):\", np.nansum(arr))\n",
    "print(\"Giá trị trung bình (bỏ qua NaN):\", np.nanmean(arr))\n",
    "\n",
    "# Thay thế NaN\n",
    "arr[np.isnan(arr)] = 0\n",
    "print(\"Mảng sau khi thay thế NaN bằng 0:\", arr)"
   ]
  }
 ],
 "metadata": {
  "kernelspec": {
   "display_name": "Python 3",
   "language": "python",
   "name": "python3"
  },
  "language_info": {
   "codemirror_mode": {
    "name": "ipython",
    "version": 3
   },
   "file_extension": ".py",
   "mimetype": "text/x-python",
   "name": "python",
   "nbconvert_exporter": "python",
   "pygments_lexer": "ipython3",
   "version": "3.11.5"
  }
 },
 "nbformat": 4,
 "nbformat_minor": 2
}
