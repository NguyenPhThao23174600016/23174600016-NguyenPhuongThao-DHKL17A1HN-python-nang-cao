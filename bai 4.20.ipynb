{
 "cells": [
  {
   "cell_type": "code",
   "execution_count": 13,
   "metadata": {},
   "outputs": [],
   "source": [
    "import pandas as pd\n",
    "import numpy as np"
   ]
  },
  {
   "cell_type": "code",
   "execution_count": 14,
   "metadata": {},
   "outputs": [
    {
     "name": "stdout",
     "output_type": "stream",
     "text": [
      "In giá trị cột Goals:\n",
      "                   Team  Goals\n",
      "0               Croatia      4\n",
      "1        Czech Republic      4\n",
      "2               Denmark      4\n",
      "3               England      5\n",
      "4                France      3\n",
      "5               Germany     10\n",
      "6                Greece      5\n",
      "7                 Italy      6\n",
      "8           Netherlands      2\n",
      "9                Poland      2\n",
      "10             Portugal      6\n",
      "11  Republic of Ireland      1\n",
      "12               Russia      5\n",
      "13                Spain     12\n",
      "14               Sweden      5\n",
      "15              Ukraine      2\n"
     ]
    }
   ],
   "source": [
    "# Đọc file CSV\n",
    "file = 'euro2012.csv'  \n",
    "data = pd.read_csv(file)\n",
    "\n",
    "# In giá trị của cột Goals\n",
    "print(\"In giá trị cột Goals:\")\n",
    "print(data[['Team', 'Goals']])"
   ]
  },
  {
   "cell_type": "code",
   "execution_count": 24,
   "metadata": {},
   "outputs": [
    {
     "name": "stdout",
     "output_type": "stream",
     "text": [
      "Số đội tham gia Euro2012:\n",
      "                   Team\n",
      "0               Croatia\n",
      "1        Czech Republic\n",
      "2               Denmark\n",
      "3               England\n",
      "4                France\n",
      "5               Germany\n",
      "6                Greece\n",
      "7                 Italy\n",
      "8           Netherlands\n",
      "9                Poland\n",
      "10             Portugal\n",
      "11  Republic of Ireland\n",
      "12               Russia\n",
      "13                Spain\n",
      "14               Sweden\n",
      "15              Ukraine\n"
     ]
    }
   ],
   "source": [
    "#In số đội tham gia Euro2012\n",
    "teams = data[['Team']]\n",
    "print(\"Số đội tham gia Euro2012:\")\n",
    "print(teams)"
   ]
  },
  {
   "cell_type": "code",
   "execution_count": 16,
   "metadata": {},
   "outputs": [
    {
     "name": "stdout",
     "output_type": "stream",
     "text": [
      "In thông tin Euro 2012:     Unnamed: 0                 Team  Goals  Shots on target  Shots off target  \\\n",
      "0            0              Croatia      4               13                12   \n",
      "1            1       Czech Republic      4               13                18   \n",
      "2            2              Denmark      4               10                10   \n",
      "3            3              England      5               11                18   \n",
      "4            4               France      3               22                24   \n",
      "5            5              Germany     10               32                32   \n",
      "6            6               Greece      5                8                18   \n",
      "7            7                Italy      6               34                45   \n",
      "8            8          Netherlands      2               12                36   \n",
      "9            9               Poland      2               15                23   \n",
      "10          10             Portugal      6               22                42   \n",
      "11          11  Republic of Ireland      1                7                12   \n",
      "12          12               Russia      5                9                31   \n",
      "13          13                Spain     12               42                33   \n",
      "14          14               Sweden      5               17                19   \n",
      "15          15              Ukraine      2                7                26   \n",
      "\n",
      "   Shooting Accuracy % Goals-to-shots  Total shots (inc. Blocked)  \\\n",
      "0             51.90%           16.00%                          32   \n",
      "1             41.90%           12.90%                          39   \n",
      "2             50.00%           20.00%                          27   \n",
      "3             50.00%           17.20%                          40   \n",
      "4             37.90%            6.50%                          65   \n",
      "5             47.80%           15.60%                          80   \n",
      "6             30.70%           19.20%                          32   \n",
      "7             43.00%            7.50%                         110   \n",
      "8             25.00%            4.10%                          60   \n",
      "9             39.40%            5.20%                          48   \n",
      "10            34.30%            9.30%                          82   \n",
      "11            36.80%            5.20%                          28   \n",
      "12            22.50%           12.50%                          59   \n",
      "13            55.90%           16.00%                         100   \n",
      "14            47.20%           13.80%                          39   \n",
      "15            21.20%            6.00%                          38   \n",
      "\n",
      "    Hit Woodwork  Penalty goals  ...  Saves made  Saves-to-shots ratio  \\\n",
      "0              0              0  ...          13                81.30%   \n",
      "1              0              0  ...           9                60.10%   \n",
      "2              1              0  ...          10                66.70%   \n",
      "3              0              0  ...          22                88.10%   \n",
      "4              1              0  ...           6                54.60%   \n",
      "5              2              1  ...          10                62.60%   \n",
      "6              1              1  ...          13                65.10%   \n",
      "7              2              0  ...          20                74.10%   \n",
      "8              2              0  ...          12                70.60%   \n",
      "9              0              0  ...           6                66.70%   \n",
      "10             6              0  ...          10                71.50%   \n",
      "11             0              0  ...          17                65.40%   \n",
      "12             2              0  ...          10                77.00%   \n",
      "13             0              1  ...          15                93.80%   \n",
      "14             3              0  ...           8                61.60%   \n",
      "15             0              0  ...          13                76.50%   \n",
      "\n",
      "    Fouls Won  Fouls Conceded Offsides  Yellow Cards  Red Cards  Subs on  \\\n",
      "0          41              62        2             9          0        9   \n",
      "1          53              73        8             7          0       11   \n",
      "2          25              38        8             4          0        7   \n",
      "3          43              45        6             5          0       11   \n",
      "4          36              51        5             6          0       11   \n",
      "5          63              49       12             4          0       15   \n",
      "6          67              48       12             9          1       12   \n",
      "7         101              89       16            16          0       18   \n",
      "8          35              30        3             5          0        7   \n",
      "9          48              56        3             7          1        7   \n",
      "10         73              90       10            12          0       14   \n",
      "11         43              51       11             6          1       10   \n",
      "12         34              43        4             6          0        7   \n",
      "13        102              83       19            11          0       17   \n",
      "14         35              51        7             7          0        9   \n",
      "15         48              31        4             5          0        9   \n",
      "\n",
      "    Subs off  Players Used  \n",
      "0          9            16  \n",
      "1         11            19  \n",
      "2          7            15  \n",
      "3         11            16  \n",
      "4         11            19  \n",
      "5         15            17  \n",
      "6         12            20  \n",
      "7         18            19  \n",
      "8          7            15  \n",
      "9          7            17  \n",
      "10        14            16  \n",
      "11        10            17  \n",
      "12         7            16  \n",
      "13        17            18  \n",
      "14         9            18  \n",
      "15         9            18  \n",
      "\n",
      "[16 rows x 36 columns]\n"
     ]
    }
   ],
   "source": [
    "#In thông tin Euro2012\n",
    "print(\"In thông tin Euro 2012:\",data)"
   ]
  },
  {
   "cell_type": "code",
   "execution_count": 17,
   "metadata": {},
   "outputs": [
    {
     "name": "stdout",
     "output_type": "stream",
     "text": [
      "                   Team  Yellow Cards  Red Cards\n",
      "0               Croatia             9          0\n",
      "1        Czech Republic             7          0\n",
      "2               Denmark             4          0\n",
      "3               England             5          0\n",
      "4                France             6          0\n",
      "5               Germany             4          0\n",
      "6                Greece             9          1\n",
      "7                 Italy            16          0\n",
      "8           Netherlands             5          0\n",
      "9                Poland             7          1\n",
      "10             Portugal            12          0\n",
      "11  Republic of Ireland             6          1\n",
      "12               Russia             6          0\n",
      "13                Spain            11          0\n",
      "14               Sweden             7          0\n",
      "15              Ukraine             5          0\n"
     ]
    }
   ],
   "source": [
    "#Tạo 1 data frame mới từ euro2012 có tên là discipline chỉ chứa 3 cột 'Team','Yellow Cards','Red Cards'\n",
    "\n",
    "discipline = data[['Team', 'Yellow Cards', 'Red Cards']]\n",
    "\n",
    "print(discipline)"
   ]
  },
  {
   "cell_type": "code",
   "execution_count": 18,
   "metadata": {},
   "outputs": [
    {
     "name": "stdout",
     "output_type": "stream",
     "text": [
      "                   Team  Yellow Cards  Red Cards\n",
      "6                Greece             9          1\n",
      "9                Poland             7          1\n",
      "11  Republic of Ireland             6          1\n",
      "7                 Italy            16          0\n",
      "10             Portugal            12          0\n",
      "13                Spain            11          0\n",
      "0               Croatia             9          0\n",
      "1        Czech Republic             7          0\n",
      "14               Sweden             7          0\n",
      "4                France             6          0\n",
      "12               Russia             6          0\n",
      "3               England             5          0\n",
      "8           Netherlands             5          0\n",
      "15              Ukraine             5          0\n",
      "2               Denmark             4          0\n",
      "5               Germany             4          0\n"
     ]
    }
   ],
   "source": [
    "# Sắp xếp giảm dần theo 'Red Cards' và sau đó theo 'Yellow Cards'\n",
    "discipline_gdan = discipline.sort_values(by=['Red Cards', 'Yellow Cards'], ascending=[False, False])\n",
    "print(discipline_gdan)"
   ]
  },
  {
   "cell_type": "code",
   "execution_count": 19,
   "metadata": {},
   "outputs": [
    {
     "name": "stdout",
     "output_type": "stream",
     "text": [
      "Trung bình Yellow Cards: 7.4375\n"
     ]
    }
   ],
   "source": [
    "#Tính trung bình yellow cards\n",
    "yellow_cards = data['Yellow Cards']\n",
    "print(\"Trung bình Yellow Cards:\",np.mean(yellow_cards))"
   ]
  },
  {
   "cell_type": "code",
   "execution_count": 23,
   "metadata": {},
   "outputs": [
    {
     "name": "stdout",
     "output_type": "stream",
     "text": [
      "Các đội ghi hơn 6 bàn thắng:\n",
      "       Team  Goals\n",
      "5   Germany     10\n",
      "13    Spain     12\n"
     ]
    }
   ],
   "source": [
    "# Lọc các đội ghi hơn 6 bàn thắng\n",
    "goals_6 = data[data['Goals'] > 6]\n",
    "\n",
    "# Hiển thị các đội ghi hơn 6 bàn thắng\n",
    "print(\"Các đội ghi hơn 6 bàn thắng:\")\n",
    "print(goals_6[['Team', 'Goals']])\n"
   ]
  },
  {
   "cell_type": "code",
   "execution_count": 28,
   "metadata": {},
   "outputs": [
    {
     "name": "stdout",
     "output_type": "stream",
     "text": [
      "Các đội có tên bắt đầu bằng chữ 'G':\n",
      "      Team\n",
      "5  Germany\n",
      "6   Greece\n"
     ]
    }
   ],
   "source": [
    "# Lọc các đội có tên bắt đầu bằng chữ 'G'\n",
    "teams_g = data[data['Team'].str.startswith('G')]\n",
    "print(\"Các đội có tên bắt đầu bằng chữ 'G':\")\n",
    "print(teams_g[['Team']])"
   ]
  },
  {
   "cell_type": "code",
   "execution_count": 29,
   "metadata": {},
   "outputs": [
    {
     "name": "stdout",
     "output_type": "stream",
     "text": [
      "7 cột đầu của euro2012:\n",
      "    Unnamed: 0                 Team  Goals  Shots on target  Shots off target  \\\n",
      "0            0              Croatia      4               13                12   \n",
      "1            1       Czech Republic      4               13                18   \n",
      "2            2              Denmark      4               10                10   \n",
      "3            3              England      5               11                18   \n",
      "4            4               France      3               22                24   \n",
      "5            5              Germany     10               32                32   \n",
      "6            6               Greece      5                8                18   \n",
      "7            7                Italy      6               34                45   \n",
      "8            8          Netherlands      2               12                36   \n",
      "9            9               Poland      2               15                23   \n",
      "10          10             Portugal      6               22                42   \n",
      "11          11  Republic of Ireland      1                7                12   \n",
      "12          12               Russia      5                9                31   \n",
      "13          13                Spain     12               42                33   \n",
      "14          14               Sweden      5               17                19   \n",
      "15          15              Ukraine      2                7                26   \n",
      "\n",
      "   Shooting Accuracy % Goals-to-shots  \n",
      "0             51.90%           16.00%  \n",
      "1             41.90%           12.90%  \n",
      "2             50.00%           20.00%  \n",
      "3             50.00%           17.20%  \n",
      "4             37.90%            6.50%  \n",
      "5             47.80%           15.60%  \n",
      "6             30.70%           19.20%  \n",
      "7             43.00%            7.50%  \n",
      "8             25.00%            4.10%  \n",
      "9             39.40%            5.20%  \n",
      "10            34.30%            9.30%  \n",
      "11            36.80%            5.20%  \n",
      "12            22.50%           12.50%  \n",
      "13            55.90%           16.00%  \n",
      "14            47.20%           13.80%  \n",
      "15            21.20%            6.00%  \n"
     ]
    }
   ],
   "source": [
    "#In 7 cột đầu của euro2012\n",
    "# Hiển thị 7 cột đầu tiên của DataFrame\n",
    "print(\"7 cột đầu của euro2012:\")\n",
    "print(data.iloc[:, :7])  # Sử dụng .iloc để chọn tất cả các hàng và 7 cột đầu"
   ]
  },
  {
   "cell_type": "code",
   "execution_count": 30,
   "metadata": {},
   "outputs": [
    {
     "name": "stdout",
     "output_type": "stream",
     "text": [
      "Tất cả các cột trừ 3 cột ở cuối:\n",
      "    Unnamed: 0                 Team  Goals  Shots on target  Shots off target  \\\n",
      "0            0              Croatia      4               13                12   \n",
      "1            1       Czech Republic      4               13                18   \n",
      "2            2              Denmark      4               10                10   \n",
      "3            3              England      5               11                18   \n",
      "4            4               France      3               22                24   \n",
      "5            5              Germany     10               32                32   \n",
      "6            6               Greece      5                8                18   \n",
      "7            7                Italy      6               34                45   \n",
      "8            8          Netherlands      2               12                36   \n",
      "9            9               Poland      2               15                23   \n",
      "10          10             Portugal      6               22                42   \n",
      "11          11  Republic of Ireland      1                7                12   \n",
      "12          12               Russia      5                9                31   \n",
      "13          13                Spain     12               42                33   \n",
      "14          14               Sweden      5               17                19   \n",
      "15          15              Ukraine      2                7                26   \n",
      "\n",
      "   Shooting Accuracy % Goals-to-shots  Total shots (inc. Blocked)  \\\n",
      "0             51.90%           16.00%                          32   \n",
      "1             41.90%           12.90%                          39   \n",
      "2             50.00%           20.00%                          27   \n",
      "3             50.00%           17.20%                          40   \n",
      "4             37.90%            6.50%                          65   \n",
      "5             47.80%           15.60%                          80   \n",
      "6             30.70%           19.20%                          32   \n",
      "7             43.00%            7.50%                         110   \n",
      "8             25.00%            4.10%                          60   \n",
      "9             39.40%            5.20%                          48   \n",
      "10            34.30%            9.30%                          82   \n",
      "11            36.80%            5.20%                          28   \n",
      "12            22.50%           12.50%                          59   \n",
      "13            55.90%           16.00%                         100   \n",
      "14            47.20%           13.80%                          39   \n",
      "15            21.20%            6.00%                          38   \n",
      "\n",
      "    Hit Woodwork  Penalty goals  ...  Clean Sheets  Blocks  Goals conceded  \\\n",
      "0              0              0  ...             0      10               3   \n",
      "1              0              0  ...             1      10               6   \n",
      "2              1              0  ...             1      10               5   \n",
      "3              0              0  ...             2      29               3   \n",
      "4              1              0  ...             1       7               5   \n",
      "5              2              1  ...             1      11               6   \n",
      "6              1              1  ...             1      23               7   \n",
      "7              2              0  ...             2      18               7   \n",
      "8              2              0  ...             0       9               5   \n",
      "9              0              0  ...             0       8               3   \n",
      "10             6              0  ...             2      11               4   \n",
      "11             0              0  ...             0      23               9   \n",
      "12             2              0  ...             0       8               3   \n",
      "13             0              1  ...             5       8               1   \n",
      "14             3              0  ...             1      12               5   \n",
      "15             0              0  ...             0       4               4   \n",
      "\n",
      "    Saves made Saves-to-shots ratio  Fouls Won  Fouls Conceded  Offsides  \\\n",
      "0           13               81.30%         41              62         2   \n",
      "1            9               60.10%         53              73         8   \n",
      "2           10               66.70%         25              38         8   \n",
      "3           22               88.10%         43              45         6   \n",
      "4            6               54.60%         36              51         5   \n",
      "5           10               62.60%         63              49        12   \n",
      "6           13               65.10%         67              48        12   \n",
      "7           20               74.10%        101              89        16   \n",
      "8           12               70.60%         35              30         3   \n",
      "9            6               66.70%         48              56         3   \n",
      "10          10               71.50%         73              90        10   \n",
      "11          17               65.40%         43              51        11   \n",
      "12          10               77.00%         34              43         4   \n",
      "13          15               93.80%        102              83        19   \n",
      "14           8               61.60%         35              51         7   \n",
      "15          13               76.50%         48              31         4   \n",
      "\n",
      "    Yellow Cards  Red Cards  \n",
      "0              9          0  \n",
      "1              7          0  \n",
      "2              4          0  \n",
      "3              5          0  \n",
      "4              6          0  \n",
      "5              4          0  \n",
      "6              9          1  \n",
      "7             16          0  \n",
      "8              5          0  \n",
      "9              7          1  \n",
      "10            12          0  \n",
      "11             6          1  \n",
      "12             6          0  \n",
      "13            11          0  \n",
      "14             7          0  \n",
      "15             5          0  \n",
      "\n",
      "[16 rows x 33 columns]\n"
     ]
    }
   ],
   "source": [
    "# Hiển thị tất cả các cột trừ 3 cột ở cuối\n",
    "print(\"Tất cả các cột trừ 3 cột ở cuối:\")\n",
    "print(data.iloc[:, :-3])  # Sử dụng .iloc để loại bỏ 3 cột cuối\n"
   ]
  },
  {
   "cell_type": "code",
   "execution_count": 36,
   "metadata": {},
   "outputs": [
    {
     "name": "stdout",
     "output_type": "stream",
     "text": [
      "In cột Teams: 0                 Croatia\n",
      "1          Czech Republic\n",
      "2                 Denmark\n",
      "3                 England\n",
      "4                  France\n",
      "5                 Germany\n",
      "6                  Greece\n",
      "7                   Italy\n",
      "8             Netherlands\n",
      "9                  Poland\n",
      "10               Portugal\n",
      "11    Republic of Ireland\n",
      "12                 Russia\n",
      "13                  Spain\n",
      "14                 Sweden\n",
      "15                Ukraine\n",
      "Name: Team, dtype: object\n",
      "In cột Goals: 0      4\n",
      "1      4\n",
      "2      4\n",
      "3      5\n",
      "4      3\n",
      "5     10\n",
      "6      5\n",
      "7      6\n",
      "8      2\n",
      "9      2\n",
      "10     6\n",
      "11     1\n",
      "12     5\n",
      "13    12\n",
      "14     5\n",
      "15     2\n",
      "Name: Goals, dtype: int64\n"
     ]
    }
   ],
   "source": [
    "#In các cột Team, Goals,Shooting Accuracy, Yellow Cards,Red Cards\n",
    "teams = data['Team']\n",
    "goals = data['Goals']\n",
    "shooting_accurary = data['Shooting Accuracy']\n",
    "yellow_cards = data['Yellow Cards']\n",
    "red_cards = data['Red Cards']\n",
    "print(\"In cột Teams:\",teams)\n",
    "print(\"In cột Goals:\",goals)"
   ]
  },
  {
   "cell_type": "code",
   "execution_count": 38,
   "metadata": {},
   "outputs": [
    {
     "name": "stdout",
     "output_type": "stream",
     "text": [
      "In cột shooting accuray 0     51.90%\n",
      "1     41.90%\n",
      "2     50.00%\n",
      "3     50.00%\n",
      "4     37.90%\n",
      "5     47.80%\n",
      "6     30.70%\n",
      "7     43.00%\n",
      "8     25.00%\n",
      "9     39.40%\n",
      "10    34.30%\n",
      "11    36.80%\n",
      "12    22.50%\n",
      "13    55.90%\n",
      "14    47.20%\n",
      "15    21.20%\n",
      "Name: Shooting Accuracy, dtype: object\n",
      "In cột Yellow Cards: 0      9\n",
      "1      7\n",
      "2      4\n",
      "3      5\n",
      "4      6\n",
      "5      4\n",
      "6      9\n",
      "7     16\n",
      "8      5\n",
      "9      7\n",
      "10    12\n",
      "11     6\n",
      "12     6\n",
      "13    11\n",
      "14     7\n",
      "15     5\n",
      "Name: Yellow Cards, dtype: int64\n"
     ]
    }
   ],
   "source": [
    "print(\"In cột shooting accuray\",shooting_accurary)\n",
    "print(\"In cột Yellow Cards:\",yellow_cards)"
   ]
  },
  {
   "cell_type": "code",
   "execution_count": 39,
   "metadata": {},
   "outputs": [
    {
     "name": "stdout",
     "output_type": "stream",
     "text": [
      "In cột Red Cards: 0     0\n",
      "1     0\n",
      "2     0\n",
      "3     0\n",
      "4     0\n",
      "5     0\n",
      "6     1\n",
      "7     0\n",
      "8     0\n",
      "9     1\n",
      "10    0\n",
      "11    1\n",
      "12    0\n",
      "13    0\n",
      "14    0\n",
      "15    0\n",
      "Name: Red Cards, dtype: int64\n"
     ]
    }
   ],
   "source": [
    "print(\"In cột Red Cards:\" ,red_cards)"
   ]
  },
  {
   "cell_type": "code",
   "execution_count": 41,
   "metadata": {},
   "outputs": [
    {
     "name": "stdout",
     "output_type": "stream",
     "text": [
      "       Team Shooting Accuracy\n",
      "3   England            50.00%\n",
      "7     Italy            43.00%\n",
      "12   Russia            22.50%\n"
     ]
    }
   ],
   "source": [
    "#In các cột chỉ hiển thị 'Team','Shooting Accurary' từ 'England','Italy','Russia'\n",
    "filtered_teams = data[data['Team'].isin(['England', 'Italy', 'Russia'])]\n",
    "result = filtered_teams[['Team', 'Shooting Accuracy']]\n",
    "\n",
    "print(result)\n"
   ]
  }
 ],
 "metadata": {
  "kernelspec": {
   "display_name": "Python 3",
   "language": "python",
   "name": "python3"
  },
  "language_info": {
   "codemirror_mode": {
    "name": "ipython",
    "version": 3
   },
   "file_extension": ".py",
   "mimetype": "text/x-python",
   "name": "python",
   "nbconvert_exporter": "python",
   "pygments_lexer": "ipython3",
   "version": "3.11.5"
  }
 },
 "nbformat": 4,
 "nbformat_minor": 2
}
