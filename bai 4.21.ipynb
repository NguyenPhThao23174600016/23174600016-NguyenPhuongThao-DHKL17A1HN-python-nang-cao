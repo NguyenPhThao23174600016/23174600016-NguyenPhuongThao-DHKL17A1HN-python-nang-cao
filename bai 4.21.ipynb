{
 "cells": [
  {
   "cell_type": "code",
   "execution_count": 30,
   "metadata": {},
   "outputs": [],
   "source": [
    "import pandas as pd\n",
    "import numpy as np"
   ]
  },
  {
   "cell_type": "code",
   "execution_count": 31,
   "metadata": {},
   "outputs": [
    {
     "name": "stdout",
     "output_type": "stream",
     "text": [
      "Kiểu dữ liệu: <class 'pandas.core.frame.DataFrame'>\n",
      "Kích thước: (193, 6)\n",
      "Tên các cột: Index(['country', 'beer_servings', 'spirit_servings', 'wine_servings',\n",
      "       'total_litres_of_pure_alcohol', 'continent'],\n",
      "      dtype='object')\n",
      "\n",
      "5 dòng dữ liệu đầu tiên:\n",
      "        country  beer_servings  spirit_servings  wine_servings  \\\n",
      "0  Afghanistan              0                0              0   \n",
      "1      Albania             89              132             54   \n",
      "2      Algeria             25                0             14   \n",
      "3      Andorra            245              138            312   \n",
      "4       Angola            217               57             45   \n",
      "\n",
      "   total_litres_of_pure_alcohol continent  \n",
      "0                           0.0        AS  \n",
      "1                           4.9        EU  \n",
      "2                           0.7        AF  \n",
      "3                          12.4        EU  \n",
      "4                           5.9        AF  \n",
      "\n",
      "5 dòng dữ liệu cuối cùng:\n",
      "        country  beer_servings  spirit_servings  wine_servings  \\\n",
      "188  Venezuela            333              100              3   \n",
      "189    Vietnam            111                2              1   \n",
      "190      Yemen              6                0              0   \n",
      "191     Zambia             32               19              4   \n",
      "192   Zimbabwe             64               18              4   \n",
      "\n",
      "     total_litres_of_pure_alcohol continent  \n",
      "188                           7.7        SA  \n",
      "189                           2.0        AS  \n",
      "190                           0.1        AS  \n",
      "191                           2.5        AF  \n",
      "192                           4.7        AF  \n"
     ]
    }
   ],
   "source": [
    "# Đọc dữ liệu từ tập tin drinks.csv với cột đầu tiên làm index\n",
    "file = 'drinks.csv'\n",
    "drink = pd.read_csv(file, index_col=0)\n",
    "\n",
    "# In kiểu dữ liệu của biến 'drink'\n",
    "print(\"Kiểu dữ liệu:\", type(drink))\n",
    "\n",
    "# In kích thước (số dòng và số cột) của dữ liệu\n",
    "print(\"Kích thước:\", drink.shape)\n",
    "\n",
    "# Hiển thị tên các cột\n",
    "print(\"Tên các cột:\", drink.columns)\n",
    "\n",
    "# Hiển thị 5 dòng dữ liệu đầu tiên\n",
    "print(\"\\n5 dòng dữ liệu đầu tiên:\\n\", drink.head())\n",
    "\n",
    "# Hiển thị 5 dòng dữ liệu cuối cùng\n",
    "print(\"\\n5 dòng dữ liệu cuối cùng:\\n\", drink.tail())"
   ]
  },
  {
   "cell_type": "code",
   "execution_count": 32,
   "metadata": {},
   "outputs": [
    {
     "name": "stdout",
     "output_type": "stream",
     "text": [
      "continent\n",
      "AF     61.471698\n",
      "AS     37.045455\n",
      "EU    193.777778\n",
      "OC     89.687500\n",
      "SA    175.083333\n",
      "Name: beer_servings, dtype: float64\n"
     ]
    }
   ],
   "source": [
    "# Nhóm theo châu lục và tính giá trị trung bình của số lượng bia tiêu thụ\n",
    "average_beer_by_continent = drink.groupby('continent')['beer_servings'].mean()\n",
    "\n",
    "# In kết quả\n",
    "print(average_beer_by_continent)"
   ]
  },
  {
   "cell_type": "code",
   "execution_count": 33,
   "metadata": {},
   "outputs": [
    {
     "name": "stdout",
     "output_type": "stream",
     "text": [
      "           count        mean        std  min   25%    50%     75%    max\n",
      "continent                                                               \n",
      "AF          53.0   16.264151  38.846419  0.0   1.0    2.0   13.00  233.0\n",
      "AS          44.0    9.068182  21.667034  0.0   0.0    1.0    8.00  123.0\n",
      "EU          45.0  142.222222  97.421738  0.0  59.0  128.0  195.00  370.0\n",
      "OC          16.0   35.625000  64.555790  0.0   1.0    8.5   23.25  212.0\n",
      "SA          12.0   62.416667  88.620189  1.0   3.0   12.0   98.50  221.0\n"
     ]
    }
   ],
   "source": [
    "# Nhóm theo châu lục và tính thống kê mô tả cho số lượng rượu vang tiêu thụ\n",
    "wine_stats_by_continent = drink.groupby('continent')['wine_servings'].describe()\n",
    "\n",
    "# In kết quả\n",
    "print(wine_stats_by_continent)"
   ]
  },
  {
   "cell_type": "code",
   "execution_count": 34,
   "metadata": {},
   "outputs": [
    {
     "name": "stdout",
     "output_type": "stream",
     "text": [
      "           beer_servings  spirit_servings  wine_servings\n",
      "continent                                               \n",
      "AF             61.471698        16.339623      16.264151\n",
      "AS             37.045455        60.840909       9.068182\n",
      "EU            193.777778       132.555556     142.222222\n",
      "OC             89.687500        58.437500      35.625000\n",
      "SA            175.083333       114.750000      62.416667\n"
     ]
    }
   ],
   "source": [
    "#cho biết số lượng các loại bia và rượu tiêu thụ trung bình ở mỗi châu lục \n",
    "average_consumption_by_continent = drink.groupby('continent')[['beer_servings', 'spirit_servings', 'wine_servings']].mean()\n",
    "\n",
    "# In kết quả\n",
    "print(average_consumption_by_continent)\n"
   ]
  },
  {
   "cell_type": "code",
   "execution_count": 35,
   "metadata": {},
   "outputs": [
    {
     "name": "stdout",
     "output_type": "stream",
     "text": [
      "           beer_servings  spirit_servings  wine_servings\n",
      "continent                                               \n",
      "AF             61.471698        16.339623      16.264151\n",
      "AS             37.045455        60.840909       9.068182\n",
      "EU            193.777778       132.555556     142.222222\n",
      "OC             89.687500        58.437500      35.625000\n",
      "SA            175.083333       114.750000      62.416667\n"
     ]
    }
   ],
   "source": [
    "#cho biết giá trị trung vị(mean) cho các loại rượu tiêu thụ ở mỗi châu\n",
    "mean_consumption_by_continent = drink.groupby('continent')[['beer_servings', 'spirit_servings', 'wine_servings']].mean()\n",
    "\n",
    "# In kết quả\n",
    "print(mean_consumption_by_continent)"
   ]
  },
  {
   "cell_type": "code",
   "execution_count": 36,
   "metadata": {},
   "outputs": [
    {
     "name": "stdout",
     "output_type": "stream",
     "text": [
      "Số lượng spirit_servings tiêu thụ trung bình: continent\n",
      "AF     16.339623\n",
      "AS     60.840909\n",
      "EU    132.555556\n",
      "OC     58.437500\n",
      "SA    114.750000\n",
      "Name: spirit_servings, dtype: float64\n",
      "Số lượng spirit_servings tiêu thụ lớn nhất: continent\n",
      "AF    152\n",
      "AS    326\n",
      "EU    373\n",
      "OC    254\n",
      "SA    302\n",
      "Name: spirit_servings, dtype: int64\n",
      "Số lượng spirit_servings tiêu thụ nhỏ nhất: continent\n",
      "AF     0\n",
      "AS     0\n",
      "EU     0\n",
      "OC     0\n",
      "SA    25\n",
      "Name: spirit_servings, dtype: int64\n"
     ]
    }
   ],
   "source": [
    "#cho biết số lượng rượu mạnh tiêu thụ trung bình , lớn nhất nhỏ nhất ở mỗi châu lục\n",
    "spirit_servings_tb = drink.groupby('continent')['spirit_servings'].mean()\n",
    "spirit_servings_max = drink.groupby('continent')['spirit_servings'].max()\n",
    "spirit_servings_min = drink.groupby('continent')['spirit_servings'].min()\n",
    "\n",
    "print(\"Số lượng spirit_servings tiêu thụ trung bình:\",spirit_servings_tb)\n",
    "print(\"Số lượng spirit_servings tiêu thụ lớn nhất:\",spirit_servings_max)\n",
    "print(\"Số lượng spirit_servings tiêu thụ nhỏ nhất:\",spirit_servings_min)"
   ]
  },
  {
   "cell_type": "code",
   "execution_count": 37,
   "metadata": {},
   "outputs": [
    {
     "name": "stdout",
     "output_type": "stream",
     "text": [
      "\n",
      "5 quốc gia có lượng bia tiêu thụ ít nhất: \n",
      "           country  beer_servings\n",
      "0     Afghanistan              0\n",
      "13     Bangladesh              0\n",
      "40   Cook Islands              0\n",
      "46    North Korea              0\n",
      "111        Monaco              0\n",
      "\n",
      "5 quốc gia có lượng bia tiêu thụ nhiều nhất: \n",
      "             country  beer_servings\n",
      "98        Lithuania            343\n",
      "65          Germany            346\n",
      "62            Gabon            347\n",
      "45   Czech Republic            361\n",
      "117         Namibia            376\n"
     ]
    }
   ],
   "source": [
    "#sắp xếp tăng dần theo số liệu bia tiêu thụ \n",
    "#cho biết 5 quốc gia có lượng tiêu thụ bia nhiều nhất và ít nhất \n",
    "sorted_beer_data = drink[['country', 'beer_servings']].sort_values(by='beer_servings', ascending=True)\n",
    "\n",
    "beer_min = sorted_beer_data.head(5)  # 5 quốc gia có ít bia tiêu thụ nhất\n",
    "beer_max = sorted_beer_data.tail(5)  # 5 quốc gia có nhiều bia tiêu thụ nhất\n",
    "\n",
    "print(\"\\n5 quốc gia có lượng bia tiêu thụ ít nhất: \\n\", beer_min)\n",
    "print(\"\\n5 quốc gia có lượng bia tiêu thụ nhiều nhất: \\n\", beer_max)"
   ]
  }
 ],
 "metadata": {
  "kernelspec": {
   "display_name": "Python 3",
   "language": "python",
   "name": "python3"
  },
  "language_info": {
   "codemirror_mode": {
    "name": "ipython",
    "version": 3
   },
   "file_extension": ".py",
   "mimetype": "text/x-python",
   "name": "python",
   "nbconvert_exporter": "python",
   "pygments_lexer": "ipython3",
   "version": "3.11.5"
  }
 },
 "nbformat": 4,
 "nbformat_minor": 2
}
